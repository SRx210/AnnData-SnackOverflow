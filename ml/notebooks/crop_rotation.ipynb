{
  "cells": [
    {
      "cell_type": "markdown",
      "metadata": {},
      "source": [
        "# Crop Rotation (Rule-based)\n",
        "\n",
        "Recommend next-season crops based on soil type, nutrient balance, and environment bands from `crop_soil.csv`.\n"
      ]
    },
    {
      "cell_type": "code",
      "execution_count": 1,
      "metadata": {},
      "outputs": [],
      "source": [
        "import os\n",
        "import numpy as np\n",
        "import pandas as pd\n",
        "import matplotlib.pyplot as plt\n",
        "import seaborn as sns\n",
        "\n",
        "plt.style.use('seaborn-v0_8-whitegrid')\n",
        "sns.set_context('notebook')\n"
      ]
    },
    {
      "cell_type": "code",
      "execution_count": 4,
      "metadata": {},
      "outputs": [],
      "source": [
        "# Load data and define rules\n",
        "path_soil = os.path.join('..', 'datasets', 'crop_soil.csv')\n",
        "soil = pd.read_csv(path_soil)\n",
        "soil.columns = [c.strip().replace(' ', '_') for c in soil.columns]\n",
        "soil['Soil_Type'] = soil['Soil_Type'].str.strip().str.title()\n",
        "soil['Crop_Type'] = soil['Crop_Type'].str.strip().str.title()"
      ]
    },
    {
      "cell_type": "code",
      "execution_count": 5,
      "metadata": {},
      "outputs": [],
      "source": [
        "suit_by_soil = soil.groupby('Soil_Type')['Crop_Type'].apply(lambda s: sorted(s.unique())).to_dict()"
      ]
    },
    {
      "cell_type": "code",
      "execution_count": 6,
      "metadata": {},
      "outputs": [],
      "source": [
        "# Heuristic nutrient bias\n",
        "soil['nutrient_bias'] = soil.apply(lambda r: 'N_high' if r['Nitrogen']>=r['Phosphorous'] and r['Nitrogen']>=r['Potassium'] else ('P_high' if r['Phosphorous']>=r['Nitrogen'] and r['Phosphorous']>=r['Potassium'] else 'K_high'), axis=1)\n",
        "bias_by_crop = soil.groupby('Crop_Type')['nutrient_bias'].agg(lambda s: s.value_counts().idxmax()).to_dict()\n",
        "\n",
        "bands = soil.groupby('Crop_Type').agg(\n",
        "    temp_min=('Temparature', 'min'), temp_max=('Temparature', 'max'),\n",
        "    moist_min=('Moisture', 'min'), moist_max=('Moisture', 'max'),\n",
        "    hum_min=('Humidity', 'min'), hum_max=('Humidity', 'max')\n",
        ").to_dict('index')\n",
        "\n",
        "legumes = {'Pulses', 'Oil Seeds'}"
      ]
    },
    {
      "cell_type": "code",
      "execution_count": 9,
      "metadata": {},
      "outputs": [],
      "source": [
        "def recommend_next_crop(current_crop, soil_type, temp, humidity, moisture, n, p, k, top_k=5):\n",
        "    current_crop = str(current_crop).strip().title()\n",
        "    soil_type = str(soil_type).strip().title()\n",
        "    candidates = suit_by_soil.get(soil_type, [])\n",
        "    scored = []\n",
        "    cur_bias = bias_by_crop.get(current_crop)\n",
        "    for cand in candidates:\n",
        "        fam_penalty = 0.0 if cand != current_crop else -1.0\n",
        "        cand_bias = bias_by_crop.get(cand)\n",
        "        rot_bonus = 0.5 if cur_bias and cand_bias and cand_bias != cur_bias else 0.0\n",
        "        if n < 15 and cand in legumes:\n",
        "            rot_bonus += 0.3\n",
        "        b = bands.get(cand)\n",
        "        env_score = 0.0\n",
        "        if b:\n",
        "            if b['temp_min'] <= temp <= b['temp_max']:\n",
        "                env_score += 0.3\n",
        "            if b['moist_min'] <= moisture <= b['moist_max']:\n",
        "                env_score += 0.3\n",
        "            if b['hum_min'] <= humidity <= b['hum_max']:\n",
        "                env_score += 0.2\n",
        "        scored.append((cand, fam_penalty + rot_bonus + env_score))\n",
        "    return sorted(scored, key=lambda x: x[1], reverse=True)[:top_k]"
      ]
    },
    {
      "cell_type": "code",
      "execution_count": 10,
      "metadata": {},
      "outputs": [
        {
          "name": "stdout",
          "output_type": "stream",
          "text": [
            "\n",
            "Input: {'current_crop': 'Paddy', 'soil_type': 'Clayey', 'temp': 30, 'humidity': 60, 'moisture': 45, 'n': 12, 'p': 10, 'k': 20}\n",
            "Recommendations: [('Oil Seeds', 1.1), ('Pulses', 1.1), ('Barley', 0.8), ('Cotton', 0.8), ('Ground Nuts', 0.8)]\n",
            "\n",
            "Input: {'current_crop': 'Wheat', 'soil_type': 'Loamy', 'temp': 28, 'humidity': 55, 'moisture': 35, 'n': 20, 'p': 5, 'k': 5}\n",
            "Recommendations: [('Barley', 0.8), ('Cotton', 0.8), ('Ground Nuts', 0.8), ('Maize', 0.8), ('Millets', 0.8)]\n"
          ]
        }
      ],
      "source": [
        "# Example\n",
        "examples = [\n",
        "    dict(current_crop='Paddy', soil_type='Clayey', temp=30, humidity=60, moisture=45, n=12, p=10, k=20),\n",
        "    dict(current_crop='Wheat', soil_type='Loamy', temp=28, humidity=55, moisture=35, n=20, p=5, k=5),\n",
        "]\n",
        "for ex in examples:\n",
        "    print('\\nInput:', ex)\n",
        "    print('Recommendations:', recommend_next_crop(**ex))"
      ]
    },
    {
      "cell_type": "code",
      "execution_count": null,
      "metadata": {},
      "outputs": [],
      "source": []
    }
  ],
  "metadata": {
    "kernelspec": {
      "display_name": "Python 3",
      "language": "python",
      "name": "python3"
    },
    "language_info": {
      "codemirror_mode": {
        "name": "ipython",
        "version": 3
      },
      "file_extension": ".py",
      "mimetype": "text/x-python",
      "name": "python",
      "nbconvert_exporter": "python",
      "pygments_lexer": "ipython3",
      "version": "3.10.0"
    }
  },
  "nbformat": 4,
  "nbformat_minor": 2
}
